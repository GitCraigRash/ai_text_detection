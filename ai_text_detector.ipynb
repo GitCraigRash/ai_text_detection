{
  "nbformat": 4,
  "nbformat_minor": 0,
  "metadata": {
    "colab": {
      "provenance": []
    },
    "kernelspec": {
      "name": "python3",
      "display_name": "Python 3"
    },
    "language_info": {
      "name": "python"
    }
  },
  "cells": [
    {
      "cell_type": "markdown",
      "source": [
        "ai_generated_text detection"
      ],
      "metadata": {
        "id": "y2zISDDH_F9-"
      }
    },
    {
      "cell_type": "code",
      "execution_count": 2,
      "metadata": {
        "id": "E-gClzcZ--7B"
      },
      "outputs": [],
      "source": [
        "#ai_generated_text_detection"
      ]
    },
    {
      "cell_type": "code",
      "source": [
        "import pandas as pd\n",
        "import numpy as np"
      ],
      "metadata": {
        "id": "oW390UZ0_Mbt"
      },
      "execution_count": 4,
      "outputs": []
    },
    {
      "cell_type": "code",
      "source": [
        "from google.colab import drive\n",
        "drive.mount('/content/drive')"
      ],
      "metadata": {
        "id": "ZJkP1CTVDbbV"
      },
      "execution_count": null,
      "outputs": []
    }
  ]
}